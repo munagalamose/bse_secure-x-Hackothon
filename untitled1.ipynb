{
  "nbformat": 4,
  "nbformat_minor": 0,
  "metadata": {
    "colab": {
      "provenance": []
    },
    "kernelspec": {
      "name": "python3",
      "display_name": "Python 3"
    },
    "language_info": {
      "name": "python"
    }
  },
  "cells": [
    {
      "cell_type": "code",
      "source": [
        "pip install pyzbar Pillow\n"
      ],
      "metadata": {
        "colab": {
          "base_uri": "https://localhost:8080/"
        },
        "id": "-4dwoXGTxiKN",
        "outputId": "e0665813-cfeb-47e7-fa38-595462c411a1"
      },
      "execution_count": 27,
      "outputs": [
        {
          "output_type": "stream",
          "name": "stdout",
          "text": [
            "Collecting pyzbar\n",
            "  Downloading pyzbar-0.1.9-py2.py3-none-any.whl.metadata (10 kB)\n",
            "Requirement already satisfied: Pillow in /usr/local/lib/python3.10/dist-packages (11.0.0)\n",
            "Downloading pyzbar-0.1.9-py2.py3-none-any.whl (32 kB)\n",
            "Installing collected packages: pyzbar\n",
            "Successfully installed pyzbar-0.1.9\n"
          ]
        }
      ]
    },
    {
      "cell_type": "code",
      "source": [
        "!apt-get install -y libzbar0\n"
      ],
      "metadata": {
        "colab": {
          "base_uri": "https://localhost:8080/"
        },
        "id": "hzzeKAw30UMh",
        "outputId": "3a5c36f9-5279-4e5d-98ee-d11534ef53b9"
      },
      "execution_count": 30,
      "outputs": [
        {
          "output_type": "stream",
          "name": "stdout",
          "text": [
            "Reading package lists... Done\n",
            "Building dependency tree... Done\n",
            "Reading state information... Done\n",
            "The following additional packages will be installed:\n",
            "  fonts-droid-fallback fonts-noto-mono fonts-urw-base35 ghostscript gsfonts imagemagick-6-common\n",
            "  libdjvulibre-text libdjvulibre21 libfftw3-double3 libgs9 libgs9-common libidn12 libijs-0.35\n",
            "  libjbig2dec0 libjxr-tools libjxr0 liblqr-1-0 libmagickcore-6.q16-6 libmagickcore-6.q16-6-extra\n",
            "  libmagickwand-6.q16-6 libv4l-0 libv4lconvert0 libwmflite-0.2-7 poppler-data\n",
            "Suggested packages:\n",
            "  fonts-noto fonts-freefont-otf | fonts-freefont-ttf fonts-texgyre ghostscript-x libfftw3-bin\n",
            "  libfftw3-dev inkscape poppler-utils fonts-japanese-mincho | fonts-ipafont-mincho\n",
            "  fonts-japanese-gothic | fonts-ipafont-gothic fonts-arphic-ukai fonts-arphic-uming fonts-nanum\n",
            "The following NEW packages will be installed:\n",
            "  fonts-droid-fallback fonts-noto-mono fonts-urw-base35 ghostscript gsfonts imagemagick-6-common\n",
            "  libdjvulibre-text libdjvulibre21 libfftw3-double3 libgs9 libgs9-common libidn12 libijs-0.35\n",
            "  libjbig2dec0 libjxr-tools libjxr0 liblqr-1-0 libmagickcore-6.q16-6 libmagickcore-6.q16-6-extra\n",
            "  libmagickwand-6.q16-6 libv4l-0 libv4lconvert0 libwmflite-0.2-7 libzbar0 poppler-data\n",
            "0 upgraded, 25 newly installed, 0 to remove and 49 not upgraded.\n",
            "Need to get 24.1 MB of archives.\n",
            "After this operation, 82.6 MB of additional disk space will be used.\n",
            "Get:1 http://archive.ubuntu.com/ubuntu jammy/main amd64 fonts-droid-fallback all 1:6.0.1r16-1.1build1 [1,805 kB]\n",
            "Get:2 http://archive.ubuntu.com/ubuntu jammy/main amd64 libfftw3-double3 amd64 3.3.8-2ubuntu8 [770 kB]\n",
            "Get:3 http://archive.ubuntu.com/ubuntu jammy/universe amd64 liblqr-1-0 amd64 0.4.2-2.1 [27.7 kB]\n",
            "Get:4 http://archive.ubuntu.com/ubuntu jammy-updates/universe amd64 imagemagick-6-common all 8:6.9.11.60+dfsg-1.3ubuntu0.22.04.5 [64.3 kB]\n",
            "Get:5 http://archive.ubuntu.com/ubuntu jammy-updates/universe amd64 libmagickcore-6.q16-6 amd64 8:6.9.11.60+dfsg-1.3ubuntu0.22.04.5 [1,795 kB]\n",
            "Get:6 http://archive.ubuntu.com/ubuntu jammy-updates/universe amd64 libmagickwand-6.q16-6 amd64 8:6.9.11.60+dfsg-1.3ubuntu0.22.04.5 [328 kB]\n",
            "Get:7 http://archive.ubuntu.com/ubuntu jammy/main amd64 poppler-data all 0.4.11-1 [2,171 kB]\n",
            "Get:8 http://archive.ubuntu.com/ubuntu jammy/main amd64 fonts-noto-mono all 20201225-1build1 [397 kB]\n",
            "Get:9 http://archive.ubuntu.com/ubuntu jammy/main amd64 fonts-urw-base35 all 20200910-1 [6,367 kB]\n",
            "Get:10 http://archive.ubuntu.com/ubuntu jammy-updates/main amd64 libgs9-common all 9.55.0~dfsg1-0ubuntu5.10 [752 kB]\n",
            "Get:11 http://archive.ubuntu.com/ubuntu jammy-updates/main amd64 libidn12 amd64 1.38-4ubuntu1 [60.0 kB]\n",
            "Get:12 http://archive.ubuntu.com/ubuntu jammy/main amd64 libijs-0.35 amd64 0.35-15build2 [16.5 kB]\n",
            "Get:13 http://archive.ubuntu.com/ubuntu jammy/main amd64 libjbig2dec0 amd64 0.19-3build2 [64.7 kB]\n",
            "Get:14 http://archive.ubuntu.com/ubuntu jammy-updates/main amd64 libgs9 amd64 9.55.0~dfsg1-0ubuntu5.10 [5,031 kB]\n",
            "Get:15 http://archive.ubuntu.com/ubuntu jammy-updates/main amd64 ghostscript amd64 9.55.0~dfsg1-0ubuntu5.10 [49.4 kB]\n",
            "Get:16 http://archive.ubuntu.com/ubuntu jammy/universe amd64 gsfonts all 1:8.11+urwcyr1.0.7~pre44-4.5 [3,120 kB]\n",
            "Get:17 http://archive.ubuntu.com/ubuntu jammy/main amd64 libdjvulibre-text all 3.5.28-2build2 [50.9 kB]\n",
            "Get:18 http://archive.ubuntu.com/ubuntu jammy/main amd64 libdjvulibre21 amd64 3.5.28-2build2 [624 kB]\n",
            "Get:19 http://archive.ubuntu.com/ubuntu jammy/universe amd64 libjxr0 amd64 1.2~git20170615.f752187-5 [174 kB]\n",
            "Get:20 http://archive.ubuntu.com/ubuntu jammy/universe amd64 libjxr-tools amd64 1.2~git20170615.f752187-5 [16.0 kB]\n",
            "Get:21 http://archive.ubuntu.com/ubuntu jammy/main amd64 libwmflite-0.2-7 amd64 0.2.12-5ubuntu1 [68.9 kB]\n",
            "Get:22 http://archive.ubuntu.com/ubuntu jammy-updates/universe amd64 libmagickcore-6.q16-6-extra amd64 8:6.9.11.60+dfsg-1.3ubuntu0.22.04.5 [70.1 kB]\n",
            "Get:23 http://archive.ubuntu.com/ubuntu jammy/main amd64 libv4lconvert0 amd64 1.22.1-2build1 [82.4 kB]\n",
            "Get:24 http://archive.ubuntu.com/ubuntu jammy/main amd64 libv4l-0 amd64 1.22.1-2build1 [44.9 kB]\n",
            "Get:25 http://archive.ubuntu.com/ubuntu jammy/universe amd64 libzbar0 amd64 0.23.92-4build2 [121 kB]\n",
            "Fetched 24.1 MB in 3s (8,999 kB/s)\n",
            "Selecting previously unselected package fonts-droid-fallback.\n",
            "(Reading database ... 123630 files and directories currently installed.)\n",
            "Preparing to unpack .../00-fonts-droid-fallback_1%3a6.0.1r16-1.1build1_all.deb ...\n",
            "Unpacking fonts-droid-fallback (1:6.0.1r16-1.1build1) ...\n",
            "Selecting previously unselected package libfftw3-double3:amd64.\n",
            "Preparing to unpack .../01-libfftw3-double3_3.3.8-2ubuntu8_amd64.deb ...\n",
            "Unpacking libfftw3-double3:amd64 (3.3.8-2ubuntu8) ...\n",
            "Selecting previously unselected package liblqr-1-0:amd64.\n",
            "Preparing to unpack .../02-liblqr-1-0_0.4.2-2.1_amd64.deb ...\n",
            "Unpacking liblqr-1-0:amd64 (0.4.2-2.1) ...\n",
            "Selecting previously unselected package imagemagick-6-common.\n",
            "Preparing to unpack .../03-imagemagick-6-common_8%3a6.9.11.60+dfsg-1.3ubuntu0.22.04.5_all.deb ...\n",
            "Unpacking imagemagick-6-common (8:6.9.11.60+dfsg-1.3ubuntu0.22.04.5) ...\n",
            "Selecting previously unselected package libmagickcore-6.q16-6:amd64.\n",
            "Preparing to unpack .../04-libmagickcore-6.q16-6_8%3a6.9.11.60+dfsg-1.3ubuntu0.22.04.5_amd64.deb ...\n",
            "Unpacking libmagickcore-6.q16-6:amd64 (8:6.9.11.60+dfsg-1.3ubuntu0.22.04.5) ...\n",
            "Selecting previously unselected package libmagickwand-6.q16-6:amd64.\n",
            "Preparing to unpack .../05-libmagickwand-6.q16-6_8%3a6.9.11.60+dfsg-1.3ubuntu0.22.04.5_amd64.deb ...\n",
            "Unpacking libmagickwand-6.q16-6:amd64 (8:6.9.11.60+dfsg-1.3ubuntu0.22.04.5) ...\n",
            "Selecting previously unselected package poppler-data.\n",
            "Preparing to unpack .../06-poppler-data_0.4.11-1_all.deb ...\n",
            "Unpacking poppler-data (0.4.11-1) ...\n",
            "Selecting previously unselected package fonts-noto-mono.\n",
            "Preparing to unpack .../07-fonts-noto-mono_20201225-1build1_all.deb ...\n",
            "Unpacking fonts-noto-mono (20201225-1build1) ...\n",
            "Selecting previously unselected package fonts-urw-base35.\n",
            "Preparing to unpack .../08-fonts-urw-base35_20200910-1_all.deb ...\n",
            "Unpacking fonts-urw-base35 (20200910-1) ...\n",
            "Selecting previously unselected package libgs9-common.\n",
            "Preparing to unpack .../09-libgs9-common_9.55.0~dfsg1-0ubuntu5.10_all.deb ...\n",
            "Unpacking libgs9-common (9.55.0~dfsg1-0ubuntu5.10) ...\n",
            "Selecting previously unselected package libidn12:amd64.\n",
            "Preparing to unpack .../10-libidn12_1.38-4ubuntu1_amd64.deb ...\n",
            "Unpacking libidn12:amd64 (1.38-4ubuntu1) ...\n",
            "Selecting previously unselected package libijs-0.35:amd64.\n",
            "Preparing to unpack .../11-libijs-0.35_0.35-15build2_amd64.deb ...\n",
            "Unpacking libijs-0.35:amd64 (0.35-15build2) ...\n",
            "Selecting previously unselected package libjbig2dec0:amd64.\n",
            "Preparing to unpack .../12-libjbig2dec0_0.19-3build2_amd64.deb ...\n",
            "Unpacking libjbig2dec0:amd64 (0.19-3build2) ...\n",
            "Selecting previously unselected package libgs9:amd64.\n",
            "Preparing to unpack .../13-libgs9_9.55.0~dfsg1-0ubuntu5.10_amd64.deb ...\n",
            "Unpacking libgs9:amd64 (9.55.0~dfsg1-0ubuntu5.10) ...\n",
            "Selecting previously unselected package ghostscript.\n",
            "Preparing to unpack .../14-ghostscript_9.55.0~dfsg1-0ubuntu5.10_amd64.deb ...\n",
            "Unpacking ghostscript (9.55.0~dfsg1-0ubuntu5.10) ...\n",
            "Selecting previously unselected package gsfonts.\n",
            "Preparing to unpack .../15-gsfonts_1%3a8.11+urwcyr1.0.7~pre44-4.5_all.deb ...\n",
            "Unpacking gsfonts (1:8.11+urwcyr1.0.7~pre44-4.5) ...\n",
            "Selecting previously unselected package libdjvulibre-text.\n",
            "Preparing to unpack .../16-libdjvulibre-text_3.5.28-2build2_all.deb ...\n",
            "Unpacking libdjvulibre-text (3.5.28-2build2) ...\n",
            "Selecting previously unselected package libdjvulibre21:amd64.\n",
            "Preparing to unpack .../17-libdjvulibre21_3.5.28-2build2_amd64.deb ...\n",
            "Unpacking libdjvulibre21:amd64 (3.5.28-2build2) ...\n",
            "Selecting previously unselected package libjxr0:amd64.\n",
            "Preparing to unpack .../18-libjxr0_1.2~git20170615.f752187-5_amd64.deb ...\n",
            "Unpacking libjxr0:amd64 (1.2~git20170615.f752187-5) ...\n",
            "Selecting previously unselected package libjxr-tools.\n",
            "Preparing to unpack .../19-libjxr-tools_1.2~git20170615.f752187-5_amd64.deb ...\n",
            "Unpacking libjxr-tools (1.2~git20170615.f752187-5) ...\n",
            "Selecting previously unselected package libwmflite-0.2-7:amd64.\n",
            "Preparing to unpack .../20-libwmflite-0.2-7_0.2.12-5ubuntu1_amd64.deb ...\n",
            "Unpacking libwmflite-0.2-7:amd64 (0.2.12-5ubuntu1) ...\n",
            "Selecting previously unselected package libmagickcore-6.q16-6-extra:amd64.\n",
            "Preparing to unpack .../21-libmagickcore-6.q16-6-extra_8%3a6.9.11.60+dfsg-1.3ubuntu0.22.04.5_amd64.deb ...\n",
            "Unpacking libmagickcore-6.q16-6-extra:amd64 (8:6.9.11.60+dfsg-1.3ubuntu0.22.04.5) ...\n",
            "Selecting previously unselected package libv4lconvert0:amd64.\n",
            "Preparing to unpack .../22-libv4lconvert0_1.22.1-2build1_amd64.deb ...\n",
            "Unpacking libv4lconvert0:amd64 (1.22.1-2build1) ...\n",
            "Selecting previously unselected package libv4l-0:amd64.\n",
            "Preparing to unpack .../23-libv4l-0_1.22.1-2build1_amd64.deb ...\n",
            "Unpacking libv4l-0:amd64 (1.22.1-2build1) ...\n",
            "Selecting previously unselected package libzbar0:amd64.\n",
            "Preparing to unpack .../24-libzbar0_0.23.92-4build2_amd64.deb ...\n",
            "Unpacking libzbar0:amd64 (0.23.92-4build2) ...\n",
            "Setting up imagemagick-6-common (8:6.9.11.60+dfsg-1.3ubuntu0.22.04.5) ...\n",
            "Setting up fonts-noto-mono (20201225-1build1) ...\n",
            "Setting up libwmflite-0.2-7:amd64 (0.2.12-5ubuntu1) ...\n",
            "Setting up libijs-0.35:amd64 (0.35-15build2) ...\n",
            "Setting up libjxr0:amd64 (1.2~git20170615.f752187-5) ...\n",
            "Setting up fonts-urw-base35 (20200910-1) ...\n",
            "Setting up poppler-data (0.4.11-1) ...\n",
            "Setting up libjbig2dec0:amd64 (0.19-3build2) ...\n",
            "Setting up gsfonts (1:8.11+urwcyr1.0.7~pre44-4.5) ...\n",
            "Setting up libidn12:amd64 (1.38-4ubuntu1) ...\n",
            "Setting up libfftw3-double3:amd64 (3.3.8-2ubuntu8) ...\n",
            "Setting up liblqr-1-0:amd64 (0.4.2-2.1) ...\n",
            "Setting up libv4lconvert0:amd64 (1.22.1-2build1) ...\n",
            "Setting up fonts-droid-fallback (1:6.0.1r16-1.1build1) ...\n",
            "Setting up libdjvulibre-text (3.5.28-2build2) ...\n",
            "Setting up libgs9-common (9.55.0~dfsg1-0ubuntu5.10) ...\n",
            "Setting up libjxr-tools (1.2~git20170615.f752187-5) ...\n",
            "Setting up libgs9:amd64 (9.55.0~dfsg1-0ubuntu5.10) ...\n",
            "Setting up libdjvulibre21:amd64 (3.5.28-2build2) ...\n",
            "Setting up ghostscript (9.55.0~dfsg1-0ubuntu5.10) ...\n",
            "Setting up libv4l-0:amd64 (1.22.1-2build1) ...\n",
            "Setting up libmagickcore-6.q16-6:amd64 (8:6.9.11.60+dfsg-1.3ubuntu0.22.04.5) ...\n",
            "Setting up libmagickwand-6.q16-6:amd64 (8:6.9.11.60+dfsg-1.3ubuntu0.22.04.5) ...\n",
            "Setting up libmagickcore-6.q16-6-extra:amd64 (8:6.9.11.60+dfsg-1.3ubuntu0.22.04.5) ...\n",
            "Setting up libzbar0:amd64 (0.23.92-4build2) ...\n",
            "Processing triggers for man-db (2.10.2-1) ...\n",
            "Processing triggers for fontconfig (2.13.1-4.2ubuntu5) ...\n",
            "Processing triggers for libc-bin (2.35-0ubuntu3.4) ...\n",
            "/sbin/ldconfig.real: /usr/local/lib/libtbbmalloc_proxy.so.2 is not a symbolic link\n",
            "\n",
            "/sbin/ldconfig.real: /usr/local/lib/libhwloc.so.15 is not a symbolic link\n",
            "\n",
            "/sbin/ldconfig.real: /usr/local/lib/libtcm.so.1 is not a symbolic link\n",
            "\n",
            "/sbin/ldconfig.real: /usr/local/lib/libtbbbind.so.3 is not a symbolic link\n",
            "\n",
            "/sbin/ldconfig.real: /usr/local/lib/libumf.so.0 is not a symbolic link\n",
            "\n",
            "/sbin/ldconfig.real: /usr/local/lib/libtbb.so.12 is not a symbolic link\n",
            "\n",
            "/sbin/ldconfig.real: /usr/local/lib/libur_loader.so.0 is not a symbolic link\n",
            "\n",
            "/sbin/ldconfig.real: /usr/local/lib/libur_adapter_level_zero.so.0 is not a symbolic link\n",
            "\n",
            "/sbin/ldconfig.real: /usr/local/lib/libtbbbind_2_0.so.3 is not a symbolic link\n",
            "\n",
            "/sbin/ldconfig.real: /usr/local/lib/libtbbbind_2_5.so.3 is not a symbolic link\n",
            "\n",
            "/sbin/ldconfig.real: /usr/local/lib/libur_adapter_opencl.so.0 is not a symbolic link\n",
            "\n",
            "/sbin/ldconfig.real: /usr/local/lib/libtbbmalloc.so.2 is not a symbolic link\n",
            "\n",
            "/sbin/ldconfig.real: /usr/local/lib/libtcm_debug.so.1 is not a symbolic link\n",
            "\n"
          ]
        }
      ]
    },
    {
      "cell_type": "code",
      "source": [
        "!pip install pyzbar Pillow\n"
      ],
      "metadata": {
        "colab": {
          "base_uri": "https://localhost:8080/"
        },
        "id": "ffzFJ4i30Vv2",
        "outputId": "775d6812-289e-4840-87e0-08ea6c46ebbc"
      },
      "execution_count": 31,
      "outputs": [
        {
          "output_type": "stream",
          "name": "stdout",
          "text": [
            "Requirement already satisfied: pyzbar in /usr/local/lib/python3.10/dist-packages (0.1.9)\n",
            "Requirement already satisfied: Pillow in /usr/local/lib/python3.10/dist-packages (11.0.0)\n"
          ]
        }
      ]
    },
    {
      "cell_type": "code",
      "source": [
        "!pip install qrcode[pil]\n"
      ],
      "metadata": {
        "colab": {
          "base_uri": "https://localhost:8080/"
        },
        "id": "ak0tev5R5F_a",
        "outputId": "93e98450-9fba-412a-e5d4-7a7f014caea7"
      },
      "execution_count": 49,
      "outputs": [
        {
          "output_type": "stream",
          "name": "stdout",
          "text": [
            "Collecting qrcode[pil]\n",
            "  Downloading qrcode-8.0-py3-none-any.whl.metadata (17 kB)\n",
            "Requirement already satisfied: pillow>=9.1.0 in /usr/local/lib/python3.10/dist-packages (from qrcode[pil]) (11.0.0)\n",
            "Downloading qrcode-8.0-py3-none-any.whl (45 kB)\n",
            "\u001b[?25l   \u001b[90m━━━━━━━━━━━━━━━━━━━━━━━━━━━━━━━━━━━━━━━━\u001b[0m \u001b[32m0.0/45.7 kB\u001b[0m \u001b[31m?\u001b[0m eta \u001b[36m-:--:--\u001b[0m\r\u001b[2K   \u001b[90m━━━━━━━━━━━━━━━━━━━━━━━━━━━━━━━━━━━━━━━━\u001b[0m \u001b[32m45.7/45.7 kB\u001b[0m \u001b[31m3.2 MB/s\u001b[0m eta \u001b[36m0:00:00\u001b[0m\n",
            "\u001b[?25hInstalling collected packages: qrcode\n",
            "Successfully installed qrcode-8.0\n"
          ]
        }
      ]
    },
    {
      "cell_type": "code",
      "source": [
        "myurl = \"https://www.flipkart.com\""
      ],
      "metadata": {
        "id": "eepUl-TN--ip"
      },
      "execution_count": 58,
      "outputs": []
    },
    {
      "cell_type": "code",
      "source": [
        "import qrcode\n",
        "from PIL import Image\n",
        "\n",
        "# Example data to encode in the QR code\n",
        "data = myurl\n",
        "# Output file name\n",
        "\n",
        "filename = \"site_inversed.png\"\n",
        "\n",
        "# Generate the QR code image\n",
        "img = qrcode.make(data)\n",
        "\n",
        "# Save the image to a file\n",
        "img.save(filename)  # Save the file in the current directory\n",
        "\n",
        "# Optionally, display the image\n",
        "img.show()\n"
      ],
      "metadata": {
        "id": "9MneLN552lKm"
      },
      "execution_count": 60,
      "outputs": []
    },
    {
      "cell_type": "code",
      "source": [
        "import webbrowser\n",
        "from pyzbar.pyzbar import decode\n",
        "from PIL import Image\n",
        "\n",
        "def open_qr_in_browser(image_path):\n",
        "    # Open the image containing the QR code\n",
        "    img = Image.open(image_path)\n",
        "\n",
        "    # Decode the QR code\n",
        "    decoded_objects = decode(img)\n",
        "\n",
        "    # Check if any QR code was found\n",
        "    if not decoded_objects:\n",
        "        print(\"No QR code found\")\n",
        "        return\n",
        "\n",
        "    # Extract the URL from the decoded object\n",
        "    for obj in decoded_objects:\n",
        "        url = obj.data.decode('utf-8')\n",
        "        print(f\"Opening URL: {url}\")\n",
        "\n",
        "        # Open the URL in the default web browser automatically\n",
        "        webbrowser.open(url, new=2)  # `new=2` opens the URL in a new tab, if possible\n",
        "\n",
        "# Example usage\n",
        "image_path = \"/content/site_inversed.png\"  # Replace with the path to your QR code image in Colab\n",
        "open_qr_in_browser(image_path)\n"
      ],
      "metadata": {
        "colab": {
          "base_uri": "https://localhost:8080/"
        },
        "id": "4kHgVuCEz0Dr",
        "outputId": "f547861a-b752-442f-ff7d-b3216b253e49"
      },
      "execution_count": 52,
      "outputs": [
        {
          "output_type": "stream",
          "name": "stdout",
          "text": [
            "Opening URL: http://www.shadetreetechnology.com/V4/validation/ba4b8bddd7958ecb8772c836c2969531\n"
          ]
        }
      ]
    },
    {
      "cell_type": "markdown",
      "source": [
        "imp"
      ],
      "metadata": {
        "id": "xELDgUeHBRiX"
      }
    },
    {
      "cell_type": "code",
      "source": [
        "import numpy as np\n",
        "import pandas as pd\n",
        "import math\n",
        "import re\n",
        "from urllib.parse import urlparse\n",
        "from sklearn.preprocessing import StandardScaler\n",
        "from sklearn.ensemble import RandomForestClassifier, AdaBoostClassifier, GradientBoostingClassifier\n",
        "from sklearn.svm import SVC\n",
        "from sklearn.tree import DecisionTreeClassifier\n",
        "from xgboost import XGBClassifier\n",
        "from lightgbm import LGBMClassifier\n",
        "from sklearn.model_selection import train_test_split\n",
        "import pickle\n",
        "\n",
        "# Function to calculate entropy\n",
        "def calculate_entropy(string):\n",
        "    \"\"\"Calculate entropy to capture randomness in a string.\"\"\"\n",
        "    probabilities = [float(string.count(c)) / len(string) for c in dict.fromkeys(list(string))]\n",
        "    return -sum(p * math.log(p, 2) for p in probabilities)\n",
        "\n",
        "# Function to extract features from a URL\n",
        "def extract_features(url):\n",
        "    parsed = urlparse(url)\n",
        "    hostname = parsed.netloc\n",
        "    path = parsed.path\n",
        "\n",
        "    features = {\n",
        "        'length_url': len(url),\n",
        "        'length_hostname': len(hostname),\n",
        "        'ip': int(bool(re.match(r'^\\d{1,3}(\\.\\d{1,3}){3}$', hostname))),\n",
        "        'nb_dots': url.count('.'),\n",
        "        'nb_hyphens': url.count('-'),\n",
        "        'nb_at': url.count('@'),\n",
        "        'nb_qm': url.count('?'),\n",
        "        'nb_and': url.count('&'),\n",
        "        'nb_or': url.count('|'),\n",
        "        'nb_eq': url.count('='),\n",
        "        'nb_underscore': url.count('_'),\n",
        "        'nb_tilde': url.count('~'),\n",
        "        'nb_percent': url.count('%'),\n",
        "        'nb_slash': url.count('/'),\n",
        "        'nb_star': url.count('*'),\n",
        "        'nb_colon': url.count(':'),\n",
        "        'nb_comma': url.count(','),\n",
        "        'nb_semicolumn': url.count(';'),\n",
        "        'nb_dollar': url.count('$'),\n",
        "        'nb_space': url.count(' '),\n",
        "        'nb_www': int('www' in hostname),\n",
        "        'nb_com': int('.com' in hostname),\n",
        "        'nb_dslash': url.count('//'),\n",
        "        'http_in_path': int('http' in path.lower()),\n",
        "        'https_token': int('https' in url.lower()),\n",
        "        'ratio_digits_url': sum(c.isdigit() for c in url) / len(url),\n",
        "        'ratio_digits_host': sum(c.isdigit() for c in hostname) / len(hostname),\n",
        "        'punycode': int('xn--' in hostname),\n",
        "        'shortening_service': int(bool(re.search(r'bit\\.ly|tinyurl|is\\.gd|goo\\.gl', url))),\n",
        "        'path_extension': int(bool(re.search(r'\\.\\w+$', path))),\n",
        "        'phish_hints': sum(c in url for c in ['login', 'secure', 'update', 'account', 'free']),\n",
        "        'entropy_url': calculate_entropy(url),\n",
        "        'entropy_hostname': calculate_entropy(hostname),\n",
        "        'suspecious_tld': int(bool(re.search(r'\\.(zip|exe|rar|scr|php|xml|bin)$', url)))\n",
        "    }\n",
        "\n",
        "    return pd.DataFrame([features])\n",
        "\n",
        "# Predict for a given URL\n",
        "def predict_url(url, classifiers, scaler):\n",
        "    \"\"\"\n",
        "    Predict whether the given URL is phishing or legitimate using majority voting.\n",
        "    \"\"\"\n",
        "    input_data = extract_features(url)\n",
        "    input_scaled = scaler.transform(input_data)\n",
        "\n",
        "    predictions = []\n",
        "    for name, clf in classifiers.items():\n",
        "        pred = clf.predict(input_scaled)\n",
        "        predictions.append(pred[0])\n",
        "\n",
        "    majority_vote = int(np.round(np.mean(predictions)))\n",
        "    # Determine the result based on the value of majority_vote\n",
        "    print(majority_vote)\n",
        "    result = \"Phishing\" if majority_vote == 1 else \"Legitimate\"\n",
        "\n",
        "    print(f\"\\nPrediction Results for URL '{url}':\")\n",
        "    for name, clf in classifiers.items():\n",
        "        clf_result = \"Phishing\" if clf.predict(input_scaled)[0] == 1 else \"Legitimate\"\n",
        "        print(f\"{name}: {clf_result}\")\n",
        "    print(f\"\\n🎯 Majority Vote Result: {result}\")\n",
        "\n",
        "    return result\n",
        "\n",
        "# Main execution\n",
        "if __name__ == \"__main__\":\n",
        "    print(\"Phishing URL Detector\")\n",
        "\n",
        "    # Load classifiers and scaler\n",
        "    with open('phishing_model.pkl', 'rb') as model_file:\n",
        "        classifiers = pickle.load(model_file)  # Load all classifiers\n",
        "        scaler = pickle.load(model_file)      # Load the scaler\n",
        "\n",
        "    url_to_check = input(\"Enter a URL to check: \").strip()\n",
        "    try:\n",
        "        predict_url(url_to_check, classifiers, scaler)\n",
        "    except Exception as e:\n",
        "        print(f\"Error: {e}\")\n"
      ],
      "metadata": {
        "colab": {
          "base_uri": "https://localhost:8080/"
        },
        "id": "RMyJ_DdG1WK0",
        "outputId": "5e5fc2e7-c7a3-465c-dd0b-efb477599646"
      },
      "execution_count": 76,
      "outputs": [
        {
          "output_type": "stream",
          "name": "stdout",
          "text": [
            "Phishing URL Detector\n",
            "Enter a URL to check: https://www.flipkart.com/\n",
            "0\n",
            "\n",
            "Prediction Results for URL 'https://www.flipkart.com/':\n",
            "SVM: Phishing\n",
            "Random Forest: Legitimate\n",
            "XGBoost: Legitimate\n",
            "AdaBoost: Legitimate\n",
            "Gradient Boosting: Legitimate\n",
            "Decision Tree: Legitimate\n",
            "LightGBM: Legitimate\n",
            "\n",
            "🎯 Majority Vote Result: Legitimate\n"
          ]
        }
      ]
    },
    {
      "cell_type": "code",
      "source": [
        "import webbrowser\n",
        "\n",
        "def ask_warning_questions():\n",
        "    questions = [\n",
        "        \"📞 Have you personally verified the identity of the recipient or organization to ensure they are trusted and legitimate?\",\n",
        "        \"❓ Is this payment for a valid purpose, and have you confirmed that the recipient's request aligns with the intended transaction?\",\n",
        "        \"🌐 Please provide the link to the website you are using for this transaction: (e.g., https://example.com). Is this the official website of the recipient or organization?\",\n",
        "        \"🔒 Have you ensured that the website you are using has a secure connection (look for 'https://' and a padlock symbol in the browser)?\",\n",
        "        \"⚠️ Have you reviewed the website or transaction details to ensure there are no signs of fraud, such as unusual domain names, urgent requests, or promises of rewards?\"\n",
        "    ]\n",
        "\n",
        "    print(\"\\nPlease answer the following questions with 'yes' or 'no':\\n\")\n",
        "    for i, question in enumerate(questions, start=1):\n",
        "        while True:\n",
        "            print(f\"{i}. {question}\")\n",
        "\n",
        "            # Special handling for the website question\n",
        "            if \"Please provide the link to the website\" in question:\n",
        "                website_url = input(\"\\n🌐 Kindly provide the link to the official website (e.g., https://example.com): \").strip()\n",
        "                if website_url.startswith(\"http://\") or website_url.startswith(\"https://\"):\n",
        "                    open_website = input(\"Shall I open this link in your browser? (yes/no): \").strip().lower()\n",
        "                    if open_website == \"yes\":\n",
        "                        webbrowser.open(website_url)\n",
        "                        print(\"🔗 As you wish, I am opening the link in your browser...\")\n",
        "                    print(f\"✅ Website URL '{website_url}' noted.\")\n",
        "                else:\n",
        "                    print(\"❌ The URL must start with 'http://' or 'https://'. Kindly try again.\")\n",
        "                break\n",
        "\n",
        "            answer = input(\"Your answer: \").strip().lower()\n",
        "            if answer in [\"yes\", \"no\"]:\n",
        "                if answer == \"no\":\n",
        "                    print(\"⚠️ Please ensure all questions are answered with 'yes' before proceeding.\")\n",
        "                break\n",
        "            else:\n",
        "                print(\"❌ Invalid input. Kindly respond with 'yes' or 'no'.\")\n",
        "\n",
        "    print(\"\\n✅ All questions have been answered. Proceeding with the next steps.\")\n"
      ],
      "metadata": {
        "id": "Qdw5UE-SG2gQ"
      },
      "execution_count": 94,
      "outputs": []
    },
    {
      "cell_type": "code",
      "source": [
        "if result == 'Phishing':\n",
        "  result = 'Legitimate'\n",
        "else:\n",
        "  result = 'Phishing'"
      ],
      "metadata": {
        "id": "MxiEgPxSHWGf"
      },
      "execution_count": 95,
      "outputs": []
    },
    {
      "cell_type": "code",
      "source": [
        "print(result)"
      ],
      "metadata": {
        "colab": {
          "base_uri": "https://localhost:8080/"
        },
        "id": "P7N_puAdHypV",
        "outputId": "715ad7af-52a8-47d3-d183-3574baf2d6f6"
      },
      "execution_count": 96,
      "outputs": [
        {
          "output_type": "stream",
          "name": "stdout",
          "text": [
            "Legitimate\n"
          ]
        }
      ]
    },
    {
      "cell_type": "code",
      "source": [
        "result = 'Phishing'"
      ],
      "metadata": {
        "id": "JEAY9mzxII1K"
      },
      "execution_count": 97,
      "outputs": []
    },
    {
      "cell_type": "code",
      "source": [
        "def proceed_to_payment():\n",
        "\n",
        "    # Confirm payment initiation\n",
        "    print(\"✅ Proceed to payment.\")\n",
        "\n",
        "    # Simulate the payment process\n",
        "    print(\"\\n💳 Payment processing...\\n\")\n",
        "\n",
        "    # Confirm successful payment\n",
        "    print(\"✅ Payment successful! The transaction has been completed.\")\n",
        "\n",
        "if __name__ == \"__main__\":\n",
        "    proceed_to_payment()"
      ],
      "metadata": {
        "colab": {
          "base_uri": "https://localhost:8080/"
        },
        "id": "OovZbd0KJGic",
        "outputId": "cad58db3-ac66-45e2-f107-ca03abb3be1c"
      },
      "execution_count": 98,
      "outputs": [
        {
          "output_type": "stream",
          "name": "stdout",
          "text": [
            "✅ Proceed to payment.\n",
            "\n",
            "💳 Payment processing...\n",
            "\n",
            "✅ Payment successful! The transaction has been completed.\n"
          ]
        }
      ]
    },
    {
      "cell_type": "code",
      "source": [
        "if __name__ == \"__main__\":\n",
        "    if result == 'Legitimate':\n",
        "      proceed_to_payment()\n",
        "    else:\n",
        "        ask_warning_questions()\n",
        "        proceed_to_payment()\n"
      ],
      "metadata": {
        "colab": {
          "base_uri": "https://localhost:8080/"
        },
        "id": "ajWYmxav5cQO",
        "outputId": "ed62385f-7547-4adb-d587-1c5ce95dbd16"
      },
      "execution_count": 99,
      "outputs": [
        {
          "output_type": "stream",
          "name": "stdout",
          "text": [
            "\n",
            "Please answer the following questions with 'yes' or 'no':\n",
            "\n",
            "1. 📞 Have you personally verified the identity of the recipient or organization to ensure they are trusted and legitimate?\n",
            "Your answer: yes\n",
            "2. ❓ Is this payment for a valid purpose, and have you confirmed that the recipient's request aligns with the intended transaction?\n",
            "Your answer: no\n",
            "⚠️ Please ensure all questions are answered with 'yes' before proceeding.\n",
            "3. 🌐 Please provide the link to the website you are using for this transaction: (e.g., https://example.com). Is this the official website of the recipient or organization?\n",
            "\n",
            "🌐 Kindly provide the link to the official website (e.g., https://example.com): yse\n",
            "❌ The URL must start with 'http://' or 'https://'. Kindly try again.\n",
            "4. 🔒 Have you ensured that the website you are using has a secure connection (look for 'https://' and a padlock symbol in the browser)?\n",
            "Your answer: vbev\n",
            "❌ Invalid input. Kindly respond with 'yes' or 'no'.\n",
            "4. 🔒 Have you ensured that the website you are using has a secure connection (look for 'https://' and a padlock symbol in the browser)?\n",
            "Your answer: jvevkkkjegf\n",
            "❌ Invalid input. Kindly respond with 'yes' or 'no'.\n",
            "4. 🔒 Have you ensured that the website you are using has a secure connection (look for 'https://' and a padlock symbol in the browser)?\n",
            "Your answer: erve\n",
            "❌ Invalid input. Kindly respond with 'yes' or 'no'.\n",
            "4. 🔒 Have you ensured that the website you are using has a secure connection (look for 'https://' and a padlock symbol in the browser)?\n",
            "Your answer: yes\n",
            "5. ⚠️ Have you reviewed the website or transaction details to ensure there are no signs of fraud, such as unusual domain names, urgent requests, or promises of rewards?\n",
            "Your answer: yes\n",
            "\n",
            "✅ All questions have been answered. Proceeding with the next steps.\n",
            "✅ Proceed to payment.\n",
            "\n",
            "💳 Payment processing...\n",
            "\n",
            "✅ Payment successful! The transaction has been completed.\n"
          ]
        }
      ]
    },
    {
      "cell_type": "code",
      "source": [],
      "metadata": {
        "id": "q0Br_dkJCez1"
      },
      "execution_count": 99,
      "outputs": []
    }
  ]
}